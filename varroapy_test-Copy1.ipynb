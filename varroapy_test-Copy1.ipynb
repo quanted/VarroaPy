{
 "cells": [
  {
   "cell_type": "code",
   "execution_count": 1,
   "metadata": {},
   "outputs": [],
   "source": [
    "from VarroaPy.RunVarroaPop import VarroaPop\n",
    "import numpy as np\n",
    "import os\n",
    "import pandas as pd\n",
    "import datetime\n",
    "import sys"
   ]
  },
  {
   "cell_type": "code",
   "execution_count": 2,
   "metadata": {},
   "outputs": [
    {
     "name": "stdout",
     "output_type": "stream",
     "text": [
      "CPU times: user 7 µs, sys: 0 ns, total: 7 µs\n",
      "Wall time: 15.3 µs\n"
     ]
    }
   ],
   "source": [
    "START_DATE = '06/15/2014'\n",
    "END_DATE = '10/10/2014'"
   ]
  },
  {
   "cell_type": "code",
   "execution_count": 5,
   "metadata": {},
   "outputs": [],
   "source": [
    "params = {\"ICWorkerAdults\": 18000, \"ICWorkerBrood\": 8000, \"SimStart\": START_DATE, \"SimEnd\": END_DATE,\n",
    "           'IPollenTrips': 8, 'INectarTrips': 17, 'RQEnableReQueen': 'false'}\n",
    "#data_dir = os.path.join(os.path.dirname(sys.argv[0]), 'test_data')\n",
    "weather = os.path.abspath('test_data/15055_grid_35.875_lat.wea')\n",
    "input_file = os.path.abspath('test_data/minucci_21_feeding_study.txt')\n",
    "lib_file = os.path.abspath('liblibvpop.so')\n",
    "vp = VarroaPop(lib_file, parameters = params, logs=True, keep_files=True)"
   ]
  },
  {
   "cell_type": "code",
   "execution_count": null,
   "metadata": {},
   "outputs": [],
   "source": [
    "vp.load_weather(weather)\n",
    "output = vp.run_model()\n",
    "output"
   ]
  },
  {
   "cell_type": "code",
   "execution_count": 13,
   "metadata": {},
   "outputs": [
    {
     "name": "stdout",
     "output_type": "stream",
     "text": [
      "CPU times: user 2.04 s, sys: 715 ms, total: 2.75 s\n",
      "Wall time: 16.5 s\n"
     ]
    }
   ],
   "source": [
    "%%time\n",
    "for i in range(100):\n",
    "    #params = {\"ICWorkerAdults\": 18000, \"ICWorkerBrood\": 8000, \"SimStart\": START_DATE, \"SimEnd\": END_DATE,\n",
    "    #       'IPollenTrips': 8, 'INectarTrips': 17, 'RQEnableReQueen': 'false'}\n",
    "    #data_dir = os.path.join(os.path.dirname(sys.argv[0]), 'test_data')\n",
    "    #weather = os.path.abspath('test_data/15055_grid_35.875_lat.wea')\n",
    "    #vrp = os.path.abspath('test_data/feeding_study.vrp')\n",
    "    #vp = VarroaPop(parameters = params, vrp_file = vrp, weather_file = weather, logs=True, keep_files=True, verbose=False)\n",
    "    vp.run_model()"
   ]
  },
  {
   "cell_type": "code",
   "execution_count": 7,
   "metadata": {},
   "outputs": [
    {
     "name": "stdout",
     "output_type": "stream",
     "text": [
      "CPU times: user 1.93 s, sys: 662 ms, total: 2.59 s\n",
      "Wall time: 16.4 s\n"
     ]
    }
   ],
   "source": [
    "%%time\n",
    "for i in range(100):\n",
    "    vp.run_model()\n",
    "    output = vp.get_output()  # pandas dataframe"
   ]
  },
  {
   "cell_type": "code",
   "execution_count": 5,
   "metadata": {},
   "outputs": [],
   "source": [
    "#output.to_csv('varroapy_test_linux.csv')"
   ]
  }
 ],
 "metadata": {
  "kernelspec": {
   "display_name": "Python [conda env:pyabc]",
   "language": "python",
   "name": "conda-env-pyabc-py"
  },
  "language_info": {
   "codemirror_mode": {
    "name": "ipython",
    "version": 3
   },
   "file_extension": ".py",
   "mimetype": "text/x-python",
   "name": "python",
   "nbconvert_exporter": "python",
   "pygments_lexer": "ipython3",
   "version": "3.7.2"
  }
 },
 "nbformat": 4,
 "nbformat_minor": 4
}
