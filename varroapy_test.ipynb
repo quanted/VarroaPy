{
 "cells": [
  {
   "cell_type": "code",
   "execution_count": 1,
   "metadata": {
    "tags": []
   },
   "outputs": [],
   "source": [
    "from VarroaPy.RunVarroaPop import VarroaPop\n",
    "import numpy as np\n",
    "import os\n",
    "import pandas as pd\n",
    "import datetime\n",
    "import sys\n",
    "import io\n",
    "import resource\n",
    "import gc"
   ]
  },
  {
   "cell_type": "code",
   "execution_count": 2,
   "metadata": {},
   "outputs": [
    {
     "name": "stdout",
     "output_type": "stream",
     "text": [
      "3.7.6 (default, Jan  8 2020, 19:59:22) \n",
      "[GCC 7.3.0]\n",
      "sys.version_info(major=3, minor=7, micro=6, releaselevel='final', serial=0)\n"
     ]
    }
   ],
   "source": [
    "import sys\n",
    "print(sys.version)\n",
    "print(sys.version_info)"
   ]
  },
  {
   "cell_type": "code",
   "execution_count": 3,
   "metadata": {},
   "outputs": [],
   "source": [
    "START_DATE = '06/15/2014'\n",
    "END_DATE = '10/10/2014'\n",
    "params = {\"ICWorkerAdults\": 18000, \"ICWorkerBrood\": 8000, \"SimStart\": START_DATE, \"SimEnd\": END_DATE,\n",
    "        'IPollenTrips': 8, 'INectarTrips': 17, 'RQEnableReQueen': 'false'}\n",
    "weather = os.path.abspath('test_data/15055_grid_35.875_lat.txt')\n",
    "input_file = os.path.abspath('test_data/InputFileFromFeeding_Study_2.txt')\n",
    "pesticide_file = os.path.abspath('test_data/NutrientContaminationFile.txt')\n",
    "lib_file = os.path.abspath('liblibvpop.so')\n",
    "vp = VarroaPop(lib_file, logs=True, keep_files=True, debug=False, verbose=False)\n",
    "vp.load_weather(weather)\n",
    "vp.load_input_file(input_file)\n",
    "vp.set_parameters(params)"
   ]
  },
  {
   "cell_type": "code",
   "execution_count": 4,
   "metadata": {},
   "outputs": [
    {
     "name": "stdout",
     "output_type": "stream",
     "text": [
      "CPU times: user 1.62 s, sys: 17.5 ms, total: 1.64 s\n",
      "Wall time: 1.64 s\n"
     ]
    }
   ],
   "source": [
    "%%time\n",
    "for i in range(500):\n",
    "    vp.run_model()"
   ]
  },
  {
   "cell_type": "code",
   "execution_count": 5,
   "metadata": {},
   "outputs": [
    {
     "name": "stdout",
     "output_type": "stream",
     "text": [
      "CPU times: user 4.85 s, sys: 4.06 ms, total: 4.85 s\n",
      "Wall time: 4.85 s\n"
     ]
    }
   ],
   "source": [
    "%%time\n",
    "for i in range(500):\n",
    "    vp.run_model()"
   ]
  },
  {
   "cell_type": "code",
   "execution_count": 6,
   "metadata": {},
   "outputs": [
    {
     "name": "stdout",
     "output_type": "stream",
     "text": [
      "CPU times: user 7.87 s, sys: 4.04 ms, total: 7.87 s\n",
      "Wall time: 7.87 s\n"
     ]
    }
   ],
   "source": [
    "%%time\n",
    "for i in range(500):\n",
    "    vp.run_model()"
   ]
  },
  {
   "cell_type": "code",
   "execution_count": 7,
   "metadata": {},
   "outputs": [
    {
     "name": "stdout",
     "output_type": "stream",
     "text": [
      "CPU times: user 11.9 s, sys: 68 ms, total: 11.9 s\n",
      "Wall time: 11.9 s\n"
     ]
    }
   ],
   "source": [
    "%%time\n",
    "for i in range(500):\n",
    "    vp.set_parameters(params)\n",
    "    vp.run_model()"
   ]
  },
  {
   "cell_type": "code",
   "execution_count": 8,
   "metadata": {},
   "outputs": [
    {
     "name": "stdout",
     "output_type": "stream",
     "text": [
      "CPU times: user 14.8 s, sys: 60 ms, total: 14.9 s\n",
      "Wall time: 14.9 s\n"
     ]
    }
   ],
   "source": [
    "%%time\n",
    "for i in range(500):\n",
    "    vp.set_parameters(params)\n",
    "    vp.run_model()"
   ]
  },
  {
   "cell_type": "code",
   "execution_count": 9,
   "metadata": {},
   "outputs": [
    {
     "name": "stdout",
     "output_type": "stream",
     "text": [
      "CPU times: user 17.3 s, sys: 4.02 ms, total: 17.3 s\n",
      "Wall time: 17.3 s\n"
     ]
    }
   ],
   "source": [
    "%%time\n",
    "for i in range(500):\n",
    "    vp.run_model()"
   ]
  },
  {
   "cell_type": "code",
   "execution_count": 3,
   "metadata": {},
   "outputs": [
    {
     "name": "stdout",
     "output_type": "stream",
     "text": [
      "Loading a dll via `ctypes`, then delete the object. The dll is not unloaded. Call `dlclose` to unload. A 2nd call will fail.\n",
      "<CDLL '/home/jminucci/git_files/VarroaPy/liblibvpop.so', handle 5555567bcad0 at 0x2aaadbc29b90>\n",
      "dlclose returned 0\n",
      "dlclose returned 0\n"
     ]
    }
   ],
   "source": [
    "import ctypes\n",
    "\n",
    "DLL = os.path.abspath('liblibvpop.so')\n",
    "dlclose_func = ctypes.cdll.LoadLibrary('').dlclose  # This WON'T work on Win\n",
    "dlclose_func.argtypes = [ctypes.c_void_p]\n",
    "\n",
    "def _load_dll(dll_name):\n",
    "    dll_dll = ctypes.CDLL(dll_name)\n",
    "    print(\"{:}\".format(dll_dll))\n",
    "    return dll_dll\n",
    "\n",
    "print(\"Loading a dll via `ctypes`, then delete the object. The dll is not unloaded. Call `dlclose` to unload. A 2nd call will fail.\")\n",
    "dll_dll = _load_dll(DLL)\n",
    "dll_handle = dll_dll._handle\n",
    "del dll_dll\n",
    "print(\"{:} returned {:d}\".format(dlclose_func.__name__, dlclose_func(dll_handle)))  # Should return 0\n",
    "print(\"{:} returned {:d}\".format(dlclose_func.__name__, dlclose_func(dll_handle)))  # Should return -1 becuase it's already unloaded"
   ]
  },
  {
   "cell_type": "code",
   "execution_count": 29,
   "metadata": {},
   "outputs": [],
   "source": [
    "def simulate_cfs():\n",
    "    START_DATE = '06/15/2014'\n",
    "    END_DATE = '10/10/2014'\n",
    "    params = {\"ICWorkerAdults\": 18000, \"ICWorkerBrood\": 8000, \"SimStart\": START_DATE, \"SimEnd\": END_DATE,\n",
    "           'IPollenTrips': 8, 'INectarTrips': 17, 'RQEnableReQueen': 'false'}\n",
    "    weather = os.path.abspath('test_data/15055_grid_35.875_lat.txt')\n",
    "    input_file = os.path.abspath('test_data/InputFileFromFeeding_Study_2.txt')\n",
    "    pesticide_file = os.path.abspath('test_data/NutrientContaminationFile.txt')\n",
    "    lib_file = os.path.abspath('liblibvpop.so')\n",
    "    vp = VarroaPop(lib_file, logs=True, keep_files=True, debug=False, verbose=False)\n",
    "    vp.load_weather(weather)\n",
    "    vp.load_input_file(input_file)\n",
    "    #vp.set_parameters(params)\n",
    "    for i in range(100):\n",
    "        vp.set_parameters(params)\n",
    "        #vp.set_parameters()\n",
    "        #vp.load_input_file(input_file)\n",
    "        #if i in [20,40,60,80]:\n",
    "            #vp.load_contamination_file(pesticide_file)\n",
    "        output = vp.run_model()\n",
    "    vp.exit()\n",
    "    del vp  # attempt to solve slowdown, doesn't help\n",
    "    gc.collect()   # attempt to solve slowdown\n",
    "    return output"
   ]
  },
  {
   "cell_type": "code",
   "execution_count": 29,
   "metadata": {},
   "outputs": [],
   "source": [
    "def simulate_cfs_no_param():\n",
    "    START_DATE = '06/15/2014'\n",
    "    END_DATE = '10/10/2014'\n",
    "    params = {\"ICWorkerAdults\": 18000, \"ICWorkerBrood\": 8000, \"SimStart\": START_DATE, \"SimEnd\": END_DATE,\n",
    "           'IPollenTrips': 8, 'INectarTrips': 17, 'RQEnableReQueen': 'false'}\n",
    "    weather = os.path.abspath('test_data/15055_grid_35.875_lat.txt')\n",
    "    input_file = os.path.abspath('test_data/InputFileFromFeeding_Study_2.txt')\n",
    "    pesticide_file = os.path.abspath('test_data/NutrientContaminationFile.txt')\n",
    "    lib_file = os.path.abspath('liblibvpop.so')\n",
    "    vp = VarroaPop(lib_file, logs=True, keep_files=True, debug=False, verbose=False)\n",
    "    vp.load_weather(weather)\n",
    "    vp.load_input_file(input_file)\n",
    "    #vp.set_parameters(params)\n",
    "    for i in range(100):\n",
    "        output = vp.run_model()\n",
    "    vp.exit()\n",
    "    del vp  # attempt to solve slowdown, doesn't help\n",
    "    gc.collect()   # attempt to solve slowdown\n",
    "    return output"
   ]
  },
  {
   "cell_type": "code",
   "execution_count": 30,
   "metadata": {},
   "outputs": [
    {
     "name": "stdout",
     "output_type": "stream",
     "text": [
      "CPU times: user 343 ms, sys: 95 ms, total: 438 ms\n",
      "Wall time: 437 ms\n"
     ]
    }
   ],
   "source": [
    "%%time\n",
    "x = simulate_cfs()"
   ]
  },
  {
   "cell_type": "code",
   "execution_count": null,
   "metadata": {},
   "outputs": [],
   "source": [
    "for i in range(100):\n",
    "    x = simulate_cfs()"
   ]
  },
  {
   "cell_type": "code",
   "execution_count": null,
   "metadata": {},
   "outputs": [],
   "source": [
    "%%time\n",
    "x = simulate_cfs()"
   ]
  },
  {
   "cell_type": "code",
   "execution_count": 13,
   "metadata": {},
   "outputs": [
    {
     "data": {
      "text/plain": [
       "105740"
      ]
     },
     "execution_count": 13,
     "metadata": {},
     "output_type": "execute_result"
    }
   ],
   "source": [
    "resource.getrusage(resource.RUSAGE_SELF).ru_maxrss"
   ]
  },
  {
   "cell_type": "code",
   "execution_count": 14,
   "metadata": {},
   "outputs": [],
   "source": [
    "def simulate_cfs_alt():\n",
    "    START_DATE = '06/15/2014'\n",
    "    END_DATE = '10/10/2014'\n",
    "    params = {\"ICWorkerAdults\": 18000, \"ICWorkerBrood\": 8000, \"SimStart\": START_DATE, \"SimEnd\": END_DATE,\n",
    "           'IPollenTrips': 8, 'INectarTrips': 17, 'RQEnableReQueen': 'false'}\n",
    "    weather = os.path.abspath('test_data/15055_grid_35.875_lat.txt')\n",
    "    input_file = os.path.abspath('test_data/InputFileFromFeeding_Study_2.txt')\n",
    "    pesticide_file = os.path.abspath('test_data/NutrientContaminationFile.txt')\n",
    "    lib_file = os.path.abspath('liblibvpop2.so')\n",
    "    vp = VarroaPop(lib_file, logs=True, keep_files=True, debug=False, verbose=False)\n",
    "    vp.load_weather(weather)\n",
    "    vp.load_input_file(input_file)\n",
    "    #vp.set_parameters(params)\n",
    "    for i in range(100):\n",
    "        #vp.set_parameters(params)\n",
    "        #vp.set_parameters()\n",
    "        vp.load_input_file(input_file)\n",
    "        if i in [20,40,60,80]:\n",
    "            vp.load_contamination_file(pesticide_file)\n",
    "        output = vp.run_model()\n",
    "    vp.exit()\n",
    "    del vp\n",
    "    gc.collect()\n",
    "    return output"
   ]
  },
  {
   "cell_type": "code",
   "execution_count": 16,
   "metadata": {},
   "outputs": [
    {
     "name": "stdout",
     "output_type": "stream",
     "text": [
      "CPU times: user 307 ms, sys: 23.2 ms, total: 330 ms\n",
      "Wall time: 329 ms\n"
     ]
    }
   ],
   "source": [
    "%%time\n",
    "x = simulate_cfs_alt()"
   ]
  },
  {
   "cell_type": "code",
   "execution_count": 240,
   "metadata": {},
   "outputs": [
    {
     "data": {
      "text/plain": [
       "111592"
      ]
     },
     "execution_count": 240,
     "metadata": {},
     "output_type": "execute_result"
    }
   ],
   "source": [
    "resource.getrusage(resource.RUSAGE_SELF).ru_maxrss"
   ]
  },
  {
   "cell_type": "code",
   "execution_count": 23,
   "metadata": {},
   "outputs": [],
   "source": [
    "output"
   ]
  },
  {
   "cell_type": "code",
   "execution_count": 5,
   "metadata": {},
   "outputs": [],
   "source": [
    "#output.to_csv('varroapy_test_linux.csv')"
   ]
  }
 ],
 "metadata": {
  "kernelspec": {
   "display_name": "anaconda",
   "language": "python",
   "name": "anaconda"
  },
  "language_info": {
   "codemirror_mode": {
    "name": "ipython",
    "version": 3
   },
   "file_extension": ".py",
   "mimetype": "text/x-python",
   "name": "python",
   "nbconvert_exporter": "python",
   "pygments_lexer": "ipython3",
   "version": "3.7.6"
  }
 },
 "nbformat": 4,
 "nbformat_minor": 4
}
