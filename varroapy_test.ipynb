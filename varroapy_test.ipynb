{
 "cells": [
  {
   "cell_type": "code",
   "execution_count": 1,
   "metadata": {
    "tags": []
   },
   "outputs": [],
   "source": [
    "from VarroaPy.RunVarroaPop import VarroaPop\n",
    "import numpy as np\n",
    "import os\n",
    "import pandas as pd\n",
    "import datetime\n",
    "import sys\n",
    "import io\n",
    "import resource\n",
    "import gc"
   ]
  },
  {
   "cell_type": "code",
   "execution_count": 2,
   "metadata": {},
   "outputs": [
    {
     "name": "stdout",
     "output_type": "stream",
     "text": [
      "3.7.6 (default, Jan  8 2020, 19:59:22) \n",
      "[GCC 7.3.0]\n",
      "sys.version_info(major=3, minor=7, micro=6, releaselevel='final', serial=0)\n"
     ]
    }
   ],
   "source": [
    "import sys\n",
    "print(sys.version)\n",
    "print(sys.version_info)"
   ]
  },
  {
   "cell_type": "code",
   "execution_count": 3,
   "metadata": {},
   "outputs": [],
   "source": [
    "def simulate_cfs():\n",
    "    START_DATE = '06/15/2014'\n",
    "    END_DATE = '10/10/2014'\n",
    "    params = {\"ICWorkerAdults\": 18000, \"ICWorkerBrood\": 8000, \"SimStart\": START_DATE, \"SimEnd\": END_DATE,\n",
    "           'IPollenTrips': 8, 'INectarTrips': 17, 'RQEnableReQueen': 'false'}\n",
    "    weather = os.path.abspath('test_data/15055_grid_35.875_lat.txt')\n",
    "    input_file = os.path.abspath('test_data/InputFileFromFeeding_Study_2.txt')\n",
    "    pesticide_file = os.path.abspath('test_data/NutrientContaminationFile.txt')\n",
    "    lib_file = os.path.abspath('liblibvpop.so')\n",
    "    vp = VarroaPop(lib_file, logs=True, keep_files=True, debug=False, verbose=False)\n",
    "    vp.load_weather(weather)\n",
    "    vp.load_input_file(input_file)\n",
    "    #vp.set_parameters(params)\n",
    "    for i in range(100):\n",
    "        #vp.set_parameters(params)\n",
    "        #vp.set_parameters()\n",
    "        vp.load_input_file(input_file)\n",
    "        if i in [20,40,60,80]:\n",
    "            vp.load_contamination_file(pesticide_file)\n",
    "        output = vp.run_model()\n",
    "    vp.exit()\n",
    "    del vp\n",
    "    gc.collect()\n",
    "    return output"
   ]
  },
  {
   "cell_type": "code",
   "execution_count": 9,
   "metadata": {},
   "outputs": [
    {
     "name": "stdout",
     "output_type": "stream",
     "text": [
      "CPU times: user 378 ms, sys: 171 ms, total: 550 ms\n",
      "Wall time: 549 ms\n"
     ]
    }
   ],
   "source": [
    "%%time\n",
    "x = simulate_cfs()"
   ]
  },
  {
   "cell_type": "code",
   "execution_count": 6,
   "metadata": {},
   "outputs": [],
   "source": [
    "for i in range(50):\n",
    "    x = simulate_cfs()"
   ]
  },
  {
   "cell_type": "code",
   "execution_count": null,
   "metadata": {},
   "outputs": [],
   "source": [
    "%%time\n",
    "x = simulate_cfs()"
   ]
  },
  {
   "cell_type": "code",
   "execution_count": 13,
   "metadata": {},
   "outputs": [
    {
     "data": {
      "text/plain": [
       "105740"
      ]
     },
     "execution_count": 13,
     "metadata": {},
     "output_type": "execute_result"
    }
   ],
   "source": [
    "resource.getrusage(resource.RUSAGE_SELF).ru_maxrss"
   ]
  },
  {
   "cell_type": "code",
   "execution_count": 14,
   "metadata": {},
   "outputs": [],
   "source": [
    "def simulate_cfs_alt():\n",
    "    START_DATE = '06/15/2014'\n",
    "    END_DATE = '10/10/2014'\n",
    "    params = {\"ICWorkerAdults\": 18000, \"ICWorkerBrood\": 8000, \"SimStart\": START_DATE, \"SimEnd\": END_DATE,\n",
    "           'IPollenTrips': 8, 'INectarTrips': 17, 'RQEnableReQueen': 'false'}\n",
    "    weather = os.path.abspath('test_data/15055_grid_35.875_lat.txt')\n",
    "    input_file = os.path.abspath('test_data/InputFileFromFeeding_Study_2.txt')\n",
    "    pesticide_file = os.path.abspath('test_data/NutrientContaminationFile.txt')\n",
    "    lib_file = os.path.abspath('liblibvpop2.so')\n",
    "    vp = VarroaPop(lib_file, logs=True, keep_files=True, debug=False, verbose=False)\n",
    "    vp.load_weather(weather)\n",
    "    vp.load_input_file(input_file)\n",
    "    #vp.set_parameters(params)\n",
    "    for i in range(100):\n",
    "        #vp.set_parameters(params)\n",
    "        #vp.set_parameters()\n",
    "        vp.load_input_file(input_file)\n",
    "        if i in [20,40,60,80]:\n",
    "            vp.load_contamination_file(pesticide_file)\n",
    "        output = vp.run_model()\n",
    "    vp.exit()\n",
    "    del vp\n",
    "    gc.collect()\n",
    "    return output"
   ]
  },
  {
   "cell_type": "code",
   "execution_count": 16,
   "metadata": {},
   "outputs": [
    {
     "name": "stdout",
     "output_type": "stream",
     "text": [
      "CPU times: user 307 ms, sys: 23.2 ms, total: 330 ms\n",
      "Wall time: 329 ms\n"
     ]
    }
   ],
   "source": [
    "%%time\n",
    "x = simulate_cfs_alt()"
   ]
  },
  {
   "cell_type": "code",
   "execution_count": 63,
   "metadata": {
    "tags": []
   },
   "outputs": [],
   "source": [
    "START_DATE = '06/15/2014'\n",
    "END_DATE = '10/10/2014'\n",
    "params = {\"ICWorkerAdults\": 18000, \"ICWorkerBrood\": 8000, \"SimStart\": START_DATE, \"SimEnd\": END_DATE,\n",
    "           'IPollenTrips': 8, 'INectarTrips': 17, 'RQEnableReQueen': 'false'}\n",
    "#data_dir = os.path.join(os.path.dirname(sys.argv[0]), 'test_data')\n",
    "weather = os.path.abspath('test_data/15055_grid_35.875_lat.txt')\n",
    "#input_file = os.path.abspath('test_data/minucci_21_feeding_study.txt')\n",
    "input_file = os.path.abspath('test_data/InputFileFromFeeding_Study_2.txt')\n",
    "pesticide_file = os.path.abspath('test_data/NutrientContaminationFile.txt')\n",
    "lib_file = os.path.abspath('liblibvpop.so')\n",
    "vp2 = VarroaPop(lib_file, logs=True, keep_files=True, debug=True, verbose=False)"
   ]
  },
  {
   "cell_type": "code",
   "execution_count": 207,
   "metadata": {},
   "outputs": [],
   "source": [
    "vp2.load_weather(weather)\n",
    "vp2.load_input_file(input_file)\n",
    "vp2.set_parameters(params)\n",
    "vp2.load_contamination_file(pesticide_file)\n",
    "#vp.get_parameters()"
   ]
  },
  {
   "cell_type": "code",
   "execution_count": 270,
   "metadata": {},
   "outputs": [
    {
     "name": "stdout",
     "output_type": "stream",
     "text": [
      "CPU times: user 2.48 s, sys: 1.88 s, total: 4.36 s\n",
      "Wall time: 4.36 s\n"
     ]
    }
   ],
   "source": [
    "%%time\n",
    "vp.load_weather(weather)\n",
    "vp.load_input_file(input_file)\n",
    "vp.set_parameters(params)\n",
    "vp.load_contamination_file(pesticide_file)\n",
    "vp.run_model()"
   ]
  },
  {
   "cell_type": "code",
   "execution_count": 94,
   "metadata": {},
   "outputs": [
    {
     "name": "stdout",
     "output_type": "stream",
     "text": [
      "CPU times: user 451 ms, sys: 306 ms, total: 756 ms\n",
      "Wall time: 754 ms\n"
     ]
    }
   ],
   "source": [
    "%%time\n",
    "vp3 = VarroaPop(lib_file, logs=True, keep_files=True, debug=True, verbose=False)\n",
    "vp3.load_weather(weather)\n",
    "vp3.load_input_file(input_file)\n",
    "for i in range(100):\n",
    "    vp3.set_parameters()\n",
    "    #vp.load_contamination_file(pesticide_file)\n",
    "    vp3.run_model()\n",
    "#output"
   ]
  },
  {
   "cell_type": "code",
   "execution_count": 276,
   "metadata": {},
   "outputs": [
    {
     "name": "stdout",
     "output_type": "stream",
     "text": [
      "CPU times: user 20.3 ms, sys: 595 µs, total: 20.9 ms\n",
      "Wall time: 19.3 ms\n"
     ]
    }
   ],
   "source": [
    "%%time\n",
    "vp.load_weather(weather)"
   ]
  },
  {
   "cell_type": "code",
   "execution_count": 72,
   "metadata": {},
   "outputs": [
    {
     "data": {
      "text/plain": [
       "154348"
      ]
     },
     "execution_count": 72,
     "metadata": {},
     "output_type": "execute_result"
    }
   ],
   "source": [
    "resource.getrusage(resource.RUSAGE_SELF).ru_maxrss"
   ]
  },
  {
   "cell_type": "code",
   "execution_count": 240,
   "metadata": {},
   "outputs": [
    {
     "data": {
      "text/plain": [
       "111592"
      ]
     },
     "execution_count": 240,
     "metadata": {},
     "output_type": "execute_result"
    }
   ],
   "source": [
    "resource.getrusage(resource.RUSAGE_SELF).ru_maxrss"
   ]
  },
  {
   "cell_type": "code",
   "execution_count": null,
   "metadata": {},
   "outputs": [],
   "source": [
    "%%time\n",
    "for i in range(100):\n",
    "    output = vp.run_model()\n",
    "output"
   ]
  },
  {
   "cell_type": "code",
   "execution_count": 86,
   "metadata": {
    "tags": []
   },
   "outputs": [
    {
     "ename": "NameError",
     "evalue": "name 'vp' is not defined",
     "output_type": "error",
     "traceback": [
      "\u001b[0;31m---------------------------------------------------------------------------\u001b[0m",
      "\u001b[0;31mNameError\u001b[0m                                 Traceback (most recent call last)",
      "\u001b[0;32m<ipython-input-86-daacb5c696d1>\u001b[0m in \u001b[0;36m<module>\u001b[0;34m\u001b[0m\n\u001b[0;32m----> 1\u001b[0;31m \u001b[0;32mdel\u001b[0m \u001b[0mvp\u001b[0m\u001b[0;34m\u001b[0m\u001b[0;34m\u001b[0m\u001b[0m\n\u001b[0m\u001b[1;32m      2\u001b[0m \u001b[0mvp\u001b[0m \u001b[0;34m=\u001b[0m \u001b[0mVarroaPop\u001b[0m\u001b[0;34m(\u001b[0m\u001b[0mlib_file\u001b[0m\u001b[0;34m,\u001b[0m \u001b[0mlogs\u001b[0m\u001b[0;34m=\u001b[0m\u001b[0;32mTrue\u001b[0m\u001b[0;34m,\u001b[0m \u001b[0mkeep_files\u001b[0m\u001b[0;34m=\u001b[0m\u001b[0;32mTrue\u001b[0m\u001b[0;34m,\u001b[0m \u001b[0mverbose\u001b[0m\u001b[0;34m=\u001b[0m\u001b[0;32mFalse\u001b[0m\u001b[0;34m,\u001b[0m \u001b[0mdebug\u001b[0m\u001b[0;34m=\u001b[0m\u001b[0;32mTrue\u001b[0m\u001b[0;34m)\u001b[0m\u001b[0;34m\u001b[0m\u001b[0;34m\u001b[0m\u001b[0m\n\u001b[1;32m      3\u001b[0m \u001b[0mvp\u001b[0m\u001b[0;34m.\u001b[0m\u001b[0mload_weather\u001b[0m\u001b[0;34m(\u001b[0m\u001b[0mweather\u001b[0m\u001b[0;34m)\u001b[0m\u001b[0;34m\u001b[0m\u001b[0;34m\u001b[0m\u001b[0m\n",
      "\u001b[0;31mNameError\u001b[0m: name 'vp' is not defined"
     ]
    }
   ],
   "source": [
    "del vp\n",
    "vp = VarroaPop(lib_file, logs=True, keep_files=True, verbose=False, debug=True)\n",
    "vp.load_weather(weather)"
   ]
  },
  {
   "cell_type": "code",
   "execution_count": 87,
   "metadata": {
    "tags": []
   },
   "outputs": [
    {
     "ename": "NameError",
     "evalue": "name 'vp' is not defined",
     "output_type": "error",
     "traceback": [
      "\u001b[0;31m---------------------------------------------------------------------------\u001b[0m",
      "\u001b[0;31mNameError\u001b[0m                                 Traceback (most recent call last)",
      "\u001b[0;32m<timed exec>\u001b[0m in \u001b[0;36m<module>\u001b[0;34m\u001b[0m\n",
      "\u001b[0;31mNameError\u001b[0m: name 'vp' is not defined"
     ]
    }
   ],
   "source": [
    "%%time\n",
    "#del vp\n",
    "vp.load_input_file(input_file)\n",
    "#vp.load_contamination_file(pesticide_file)\n",
    "for i in range(100):\n",
    "    #vp.set_parameters(params)\n",
    "    output = vp.run_model()\n",
    "output"
   ]
  },
  {
   "cell_type": "code",
   "execution_count": 7,
   "metadata": {},
   "outputs": [],
   "source": [
    "vp = VarroaPop(lib_file, logs=True, keep_files=True, verbose=False)\n",
    "vp.load_weather(weather)\n",
    "vp.load_input_file(input_file)\n",
    "vp.set_parameters(params)"
   ]
  },
  {
   "cell_type": "code",
   "execution_count": 24,
   "metadata": {},
   "outputs": [
    {
     "name": "stdout",
     "output_type": "stream",
     "text": [
      "CPU times: user 5.65 s, sys: 98.7 ms, total: 5.75 s\n",
      "Wall time: 5.75 s\n"
     ]
    }
   ],
   "source": [
    "%%time\n",
    "for i in range(100):\n",
    "    vp.load_weather(weather)"
   ]
  },
  {
   "cell_type": "code",
   "execution_count": 40,
   "metadata": {},
   "outputs": [
    {
     "name": "stdout",
     "output_type": "stream",
     "text": [
      "CPU times: user 216 ms, sys: 23.1 ms, total: 239 ms\n",
      "Wall time: 237 ms\n"
     ]
    }
   ],
   "source": [
    "%%time\n",
    "for i in range(100):\n",
    "    vp.load_input_file(input_file)"
   ]
  },
  {
   "cell_type": "code",
   "execution_count": 60,
   "metadata": {},
   "outputs": [
    {
     "name": "stdout",
     "output_type": "stream",
     "text": [
      "CPU times: user 185 ms, sys: 15.1 ms, total: 200 ms\n",
      "Wall time: 198 ms\n"
     ]
    }
   ],
   "source": [
    "%%time\n",
    "for i in range(100):\n",
    "    params = {'ICWorkerAdults': i}\n",
    "    vp.set_parameters(params)"
   ]
  },
  {
   "cell_type": "code",
   "execution_count": 24,
   "metadata": {
    "tags": []
   },
   "outputs": [
    {
     "name": "stdout",
     "output_type": "stream",
     "text": [
      "CPU times: user 767 ms, sys: 0 ns, total: 767 ms\n",
      "Wall time: 766 ms\n"
     ]
    }
   ],
   "source": [
    "%%time\n",
    "for i in range(100):\n",
    "    output = vp.run_model(debug=True)\n",
    "output"
   ]
  },
  {
   "cell_type": "code",
   "execution_count": 12,
   "metadata": {},
   "outputs": [
    {
     "name": "stdout",
     "output_type": "stream",
     "text": [
      "CPU times: user 1.51 s, sys: 157 ms, total: 1.67 s\n",
      "Wall time: 1.68 s\n"
     ]
    }
   ],
   "source": [
    "%%time\n",
    "#similar to CFS full simulation\n",
    "vp.load_weather(weather)\n",
    "vp.load_input_file(input_file)\n",
    "for i in range(100):\n",
    "    vp.set_parameters(params)\n",
    "    vp.run_model()\n",
    "    output = vp.get_output()"
   ]
  },
  {
   "cell_type": "code",
   "execution_count": 13,
   "metadata": {},
   "outputs": [
    {
     "name": "stdout",
     "output_type": "stream",
     "text": [
      "CPU times: user 20.3 s, sys: 21.2 s, total: 41.4 s\n",
      "Wall time: 41.4 s\n"
     ]
    }
   ],
   "source": [
    "%%time\n",
    "for i in range(100):\n",
    "    vp.load_weather(weather)\n",
    "    vp.load_input_file(input_file)\n",
    "    vp.set_parameters(params)\n",
    "    vp.run_model()\n",
    "    output = vp.get_output()"
   ]
  },
  {
   "cell_type": "code",
   "execution_count": 14,
   "metadata": {},
   "outputs": [
    {
     "name": "stdout",
     "output_type": "stream",
     "text": [
      "CPU times: user 155 ms, sys: 11.9 ms, total: 167 ms\n",
      "Wall time: 165 ms\n"
     ]
    }
   ],
   "source": [
    "%%time\n",
    "for i in range(100):\n",
    "    vp.load_input_file(input_file)"
   ]
  },
  {
   "cell_type": "code",
   "execution_count": 21,
   "metadata": {},
   "outputs": [
    {
     "name": "stdout",
     "output_type": "stream",
     "text": [
      "CPU times: user 873 ms, sys: 8.53 ms, total: 881 ms\n",
      "Wall time: 886 ms\n"
     ]
    }
   ],
   "source": [
    "%%time\n",
    "for i in range(100):\n",
    "    vp.run_model()\n",
    "    output = vp.get_output()  # pandas dataframe"
   ]
  },
  {
   "cell_type": "code",
   "execution_count": 23,
   "metadata": {},
   "outputs": [],
   "source": [
    "output"
   ]
  },
  {
   "cell_type": "code",
   "execution_count": 5,
   "metadata": {},
   "outputs": [],
   "source": [
    "#output.to_csv('varroapy_test_linux.csv')"
   ]
  }
 ],
 "metadata": {
  "kernelspec": {
   "display_name": "anaconda",
   "language": "python",
   "name": "anaconda"
  },
  "language_info": {
   "codemirror_mode": {
    "name": "ipython",
    "version": 3
   },
   "file_extension": ".py",
   "mimetype": "text/x-python",
   "name": "python",
   "nbconvert_exporter": "python",
   "pygments_lexer": "ipython3",
   "version": "3.7.6"
  }
 },
 "nbformat": 4,
 "nbformat_minor": 4
}
